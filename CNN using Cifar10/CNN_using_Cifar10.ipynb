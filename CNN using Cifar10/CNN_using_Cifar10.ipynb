{
 "cells": [
  {
   "cell_type": "markdown",
   "metadata": {},
   "source": [
    "# Import Libraries and Device Info"
   ]
  },
  {
   "cell_type": "code",
   "execution_count": 1,
   "metadata": {},
   "outputs": [],
   "source": [
    "import numpy as np\n",
    "import matplotlib.pyplot as plt\n",
    "import tensorflow as tf"
   ]
  },
  {
   "cell_type": "code",
   "execution_count": 2,
   "metadata": {},
   "outputs": [
    {
     "name": "stdout",
     "output_type": "stream",
     "text": [
      "[name: \"/device:CPU:0\"\n",
      "device_type: \"CPU\"\n",
      "memory_limit: 268435456\n",
      "locality {\n",
      "}\n",
      "incarnation: 12353367385185879818\n",
      ", name: \"/device:XLA_CPU:0\"\n",
      "device_type: \"XLA_CPU\"\n",
      "memory_limit: 17179869184\n",
      "locality {\n",
      "}\n",
      "incarnation: 12156928276073351800\n",
      "physical_device_desc: \"device: XLA_CPU device\"\n",
      "]\n"
     ]
    }
   ],
   "source": [
    "# Check the devices that are available for computation\n",
    "\n",
    "from tensorflow.python.client import device_lib\n",
    "print(device_lib.list_local_devices())"
   ]
  },
  {
   "cell_type": "code",
   "execution_count": 3,
   "metadata": {},
   "outputs": [
    {
     "name": "stdout",
     "output_type": "stream",
     "text": [
      "2.3.1\n"
     ]
    }
   ],
   "source": [
    "print(tf.__version__)"
   ]
  },
  {
   "cell_type": "markdown",
   "metadata": {},
   "source": [
    "# Loading data"
   ]
  },
  {
   "cell_type": "code",
   "execution_count": 4,
   "metadata": {},
   "outputs": [],
   "source": [
    "data = tf.keras.datasets.cifar10"
   ]
  },
  {
   "cell_type": "code",
   "execution_count": 5,
   "metadata": {},
   "outputs": [],
   "source": [
    "# This dataset now returns two tuples one for train data and next for test data\n",
    "\n",
    "(x_train, y_train), (x_test, y_test) = data.load_data()"
   ]
  },
  {
   "cell_type": "code",
   "execution_count": 6,
   "metadata": {},
   "outputs": [
    {
     "name": "stdout",
     "output_type": "stream",
     "text": [
      "The number of train dataset: (50000, 32, 32, 3)\n",
      "The number of train dataset: (50000, 1)\n",
      "The number of train dataset: (10000, 32, 32, 3)\n",
      "The number of train dataset: (10000, 1)\n"
     ]
    }
   ],
   "source": [
    "print(\"The number of train dataset:\", x_train.shape)\n",
    "print(\"The number of train dataset:\", y_train.shape)\n",
    "print(\"The number of train dataset:\", x_test.shape)\n",
    "print(\"The number of train dataset:\", y_test.shape)"
   ]
  },
  {
   "cell_type": "code",
   "execution_count": 7,
   "metadata": {},
   "outputs": [],
   "source": [
    "import random"
   ]
  },
  {
   "cell_type": "code",
   "execution_count": 8,
   "metadata": {},
   "outputs": [
    {
     "name": "stdout",
     "output_type": "stream",
     "text": [
      "This is the image of data at index: 36159\n"
     ]
    },
    {
     "data": {
      "text/plain": [
       "<matplotlib.colorbar.Colorbar at 0x7fa17c073e90>"
      ]
     },
     "execution_count": 8,
     "metadata": {},
     "output_type": "execute_result"
    },
    {
     "data": {
      "image/png": "[encoded data removed]",
      "text/plain": [
       "<Figure size 432x288 with 2 Axes>"
      ]
     },
     "metadata": {
      "needs_background": "light"
     },
     "output_type": "display_data"
    }
   ],
   "source": [
    "# Display image of one random image\n",
    "\n",
    "num = random.randint(0, len(x_train))\n",
    "print(\"This is the image of data at index:\", num)\n",
    "plt.imshow(x_train[num])\n",
    "plt.colorbar()"
   ]
  },
  {
   "cell_type": "markdown",
   "metadata": {},
   "source": [
    "# Data Preprocessing"
   ]
  },
  {
   "cell_type": "code",
   "execution_count": 9,
   "metadata": {},
   "outputs": [],
   "source": [
    "x_train, x_test = x_train/255.0, x_test/255.0"
   ]
  },
  {
   "cell_type": "code",
   "execution_count": 10,
   "metadata": {},
   "outputs": [
    {
     "name": "stdout",
     "output_type": "stream",
     "text": [
      "The number of train dataset: (50000, 32, 32, 3)\n",
      "The number of train dataset: (50000, 1)\n",
      "The number of train dataset: (10000, 32, 32, 3)\n",
      "The number of train dataset: (10000, 1)\n"
     ]
    }
   ],
   "source": [
    "print(\"The number of train dataset:\", x_train.shape)\n",
    "print(\"The number of train dataset:\", y_train.shape)\n",
    "print(\"The number of train dataset:\", x_test.shape)\n",
    "print(\"The number of train dataset:\", y_test.shape)"
   ]
  },
  {
   "cell_type": "code",
   "execution_count": 11,
   "metadata": {},
   "outputs": [
    {
     "name": "stdout",
     "output_type": "stream",
     "text": [
      "The maximum value of data at x_train is: 1.0\n",
      "The maximum value of data at x_test is: 1.0\n"
     ]
    }
   ],
   "source": [
    "print(\"The maximum value of data at x_train is:\", np.max(x_train))\n",
    "print(\"The maximum value of data at x_test is:\", np.max(x_test))"
   ]
  },
  {
   "cell_type": "markdown",
   "metadata": {},
   "source": [
    "# Building CNN Model"
   ]
  },
  {
   "cell_type": "code",
   "execution_count": 12,
   "metadata": {},
   "outputs": [],
   "source": [
    "from tensorflow.keras import Sequential\n",
    "from tensorflow.keras.layers import Dense, Flatten, Conv2D, MaxPool2D, Dropout"
   ]
  },
  {
   "cell_type": "code",
   "execution_count": 13,
   "metadata": {},
   "outputs": [],
   "source": [
    "model = Sequential()\n",
    "# Input CNN Layer\n",
    "model.add(Conv2D(filters=32, kernel_size=(3, 3), activation='relu', padding='same', input_shape=[32,32,3]))\n",
    "\n",
    "# Hidden CNN Layer\n",
    "model.add(Conv2D(filters=32, kernel_size=(3, 3), activation='relu', padding='same'))\n",
    "model.add(MaxPool2D(pool_size=(2,2), strides=2, padding='valid'))\n",
    "model.add(Dropout(0.2))\n",
    "\n",
    "# Output ANN Layer\n",
    "model.add(Flatten())\n",
    "model.add(Dense(units=128, activation='relu'))\n",
    "model.add(Dense(units=10, activation='softmax'))"
   ]
  },
  {
   "cell_type": "code",
   "execution_count": 14,
   "metadata": {},
   "outputs": [
    {
     "name": "stdout",
     "output_type": "stream",
     "text": [
      "Model: \"sequential\"\n",
      "_________________________________________________________________\n",
      "Layer (type)                 Output Shape              Param #   \n",
      "=================================================================\n",
      "conv2d (Conv2D)              (None, 32, 32, 32)        896       \n",
      "_________________________________________________________________\n",
      "conv2d_1 (Conv2D)            (None, 32, 32, 32)        9248      \n",
      "_________________________________________________________________\n",
      "max_pooling2d (MaxPooling2D) (None, 16, 16, 32)        0         \n",
      "_________________________________________________________________\n",
      "dropout (Dropout)            (None, 16, 16, 32)        0         \n",
      "_________________________________________________________________\n",
      "flatten (Flatten)            (None, 8192)              0         \n",
      "_________________________________________________________________\n",
      "dense (Dense)                (None, 128)               1048704   \n",
      "_________________________________________________________________\n",
      "dense_1 (Dense)              (None, 10)                1290      \n",
      "=================================================================\n",
      "Total params: 1,060,138\n",
      "Trainable params: 1,060,138\n",
      "Non-trainable params: 0\n",
      "_________________________________________________________________\n"
     ]
    }
   ],
   "source": [
    "model.summary()"
   ]
  },
  {
   "cell_type": "code",
   "execution_count": 15,
   "metadata": {},
   "outputs": [],
   "source": [
    "model.compile(optimizer='adam', loss='sparse_categorical_crossentropy', metrics=['sparse_categorical_accuracy'])"
   ]
  },
  {
   "cell_type": "markdown",
   "metadata": {},
   "source": [
    "# Training/Fitting Model"
   ]
  },
  {
   "cell_type": "code",
   "execution_count": 16,
   "metadata": {},
   "outputs": [
    {
     "name": "stdout",
     "output_type": "stream",
     "text": [
      "Epoch 1/10\n",
      "2000/2000 [==============================] - 21s 10ms/step - loss: 1.3548 - sparse_categorical_accuracy: 0.5140 - val_loss: 1.0848 - val_sparse_categorical_accuracy: 0.6138\n",
      "Epoch 2/10\n",
      "2000/2000 [==============================] - 19s 10ms/step - loss: 0.9956 - sparse_categorical_accuracy: 0.6491 - val_loss: 0.9868 - val_sparse_categorical_accuracy: 0.6562\n",
      "Epoch 3/10\n",
      "2000/2000 [==============================] - 19s 10ms/step - loss: 0.8452 - sparse_categorical_accuracy: 0.7014 - val_loss: 0.9467 - val_sparse_categorical_accuracy: 0.6728\n",
      "Epoch 4/10\n",
      "2000/2000 [==============================] - 19s 10ms/step - loss: 0.7195 - sparse_categorical_accuracy: 0.7443 - val_loss: 0.9622 - val_sparse_categorical_accuracy: 0.6694\n",
      "Epoch 5/10\n",
      "2000/2000 [==============================] - 19s 9ms/step - loss: 0.6133 - sparse_categorical_accuracy: 0.7835 - val_loss: 0.9639 - val_sparse_categorical_accuracy: 0.6811\n",
      "Epoch 6/10\n",
      "2000/2000 [==============================] - 19s 9ms/step - loss: 0.5133 - sparse_categorical_accuracy: 0.8173 - val_loss: 1.0157 - val_sparse_categorical_accuracy: 0.6804\n",
      "Epoch 7/10\n",
      "2000/2000 [==============================] - 19s 9ms/step - loss: 0.4313 - sparse_categorical_accuracy: 0.8471 - val_loss: 1.0608 - val_sparse_categorical_accuracy: 0.6751\n",
      "Epoch 8/10\n",
      "2000/2000 [==============================] - 19s 9ms/step - loss: 0.3584 - sparse_categorical_accuracy: 0.8728 - val_loss: 1.2012 - val_sparse_categorical_accuracy: 0.6767\n",
      "Epoch 9/10\n",
      "2000/2000 [==============================] - 19s 10ms/step - loss: 0.3025 - sparse_categorical_accuracy: 0.8906 - val_loss: 1.2151 - val_sparse_categorical_accuracy: 0.6749\n",
      "Epoch 10/10\n",
      "2000/2000 [==============================] - 18s 9ms/step - loss: 0.2513 - sparse_categorical_accuracy: 0.9110 - val_loss: 1.3482 - val_sparse_categorical_accuracy: 0.6688\n"
     ]
    }
   ],
   "source": [
    "records = model.fit(x=x_train, y=y_train, epochs=10, batch_size=20, validation_split=0.2)"
   ]
  },
  {
   "cell_type": "markdown",
   "metadata": {},
   "source": [
    "# Testing Model"
   ]
  },
  {
   "cell_type": "code",
   "execution_count": 17,
   "metadata": {},
   "outputs": [
    {
     "name": "stdout",
     "output_type": "stream",
     "text": [
      "313/313 [==============================] - 2s 5ms/step - loss: 1.3829 - sparse_categorical_accuracy: 0.6608\n",
      "The test loss of the model is: 1.3829375505447388\n",
      "The test accuracy of the model is: 66.07999801635742 %.\n"
     ]
    }
   ],
   "source": [
    "test_loss, test_accuracy = model.evaluate(x_test, y_test)\n",
    "\n",
    "print('The test loss of the model is:', test_loss)\n",
    "print('The test accuracy of the model is:', test_accuracy * 100, '%.')"
   ]
  },
  {
   "cell_type": "markdown",
   "metadata": {},
   "source": [
    "#### The prediction is made based on probability. The class that has maximum probability is declared as the class of the product."
   ]
  },
  {
   "cell_type": "markdown",
   "metadata": {},
   "source": [
    "This shows that the accuracy of Train data is far more than that of Test and Cross Validation data. This means we are overfitting our model. Overfitting here means we are making our model complex but it is not learning anything new."
   ]
  },
  {
   "cell_type": "code",
   "execution_count": 18,
   "metadata": {},
   "outputs": [
    {
     "data": {
      "text/plain": [
       "array([1.3496299e-01, 2.2794996e-01, 8.4602492e-05, 1.1712229e-05,\n",
       "       1.7153225e-05, 1.9323112e-09, 1.3071711e-08, 1.5959915e-06,\n",
       "       2.0374730e-01, 4.3322468e-01], dtype=float32)"
      ]
     },
     "execution_count": 18,
     "metadata": {},
     "output_type": "execute_result"
    }
   ],
   "source": [
    "probabilities = model.predict(x_test)\n",
    "probabilities[2]"
   ]
  },
  {
   "cell_type": "code",
   "execution_count": 19,
   "metadata": {},
   "outputs": [
    {
     "name": "stdout",
     "output_type": "stream",
     "text": [
      "0.9270439\n",
      "5\n"
     ]
    }
   ],
   "source": [
    "# Printing the maximum probability and the class with maximum probability\n",
    "\n",
    "print(np.max(probabilities[0]))\n",
    "print(list(probabilities[0]).index(np.max(probabilities[0])))"
   ]
  },
  {
   "cell_type": "code",
   "execution_count": 20,
   "metadata": {},
   "outputs": [
    {
     "data": {
      "text/plain": [
       "<matplotlib.image.AxesImage at 0x7fa164150fd0>"
      ]
     },
     "execution_count": 20,
     "metadata": {},
     "output_type": "execute_result"
    },
    {
     "data": {
      "image/png": "[encoded data removed]",
      "text/plain": [
       "<Figure size 432x288 with 1 Axes>"
      ]
     },
     "metadata": {
      "needs_background": "light"
     },
     "output_type": "display_data"
    }
   ],
   "source": [
    "plt.imshow(x_test[2])"
   ]
  },
  {
   "cell_type": "markdown",
   "metadata": {},
   "source": [
    "#### So the result matches our conclusion, i.e. our model predicted the product to belong to class 5, as we predicted it to."
   ]
  },
  {
   "cell_type": "code",
   "execution_count": null,
   "metadata": {},
   "outputs": [],
   "source": []
  }
 ],
 "metadata": {
  "kernelspec": {
   "display_name": "Python 3.7 (Intel® oneAPI)",
   "language": "python",
   "name": "c009-intel_distribution_of_python_3_oneapi-beta05-python"
  },
  "language_info": {
   "codemirror_mode": {
    "name": "ipython",
    "version": 3
   },
   "file_extension": ".py",
   "mimetype": "text/x-python",
   "name": "python",
   "nbconvert_exporter": "python",
   "pygments_lexer": "ipython3",
   "version": "3.7.7"
  }
 },
 "nbformat": 4,
 "nbformat_minor": 4
}
