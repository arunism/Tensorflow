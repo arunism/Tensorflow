{
 "cells": [
  {
   "cell_type": "markdown",
   "metadata": {},
   "source": [
    "# Import Libraries and Device Info"
   ]
  },
  {
   "cell_type": "code",
   "execution_count": 1,
   "metadata": {},
   "outputs": [],
   "source": [
    "import numpy as np\n",
    "import pandas as pd\n",
    "import matplotlib.pyplot as plt\n",
    "import tensorflow as tf"
   ]
  },
  {
   "cell_type": "code",
   "execution_count": 2,
   "metadata": {},
   "outputs": [
    {
     "name": "stdout",
     "output_type": "stream",
     "text": [
      "[name: \"/device:CPU:0\"\n",
      "device_type: \"CPU\"\n",
      "memory_limit: 268435456\n",
      "locality {\n",
      "}\n",
      "incarnation: 13001209040034519695\n",
      ", name: \"/device:XLA_CPU:0\"\n",
      "device_type: \"XLA_CPU\"\n",
      "memory_limit: 17179869184\n",
      "locality {\n",
      "}\n",
      "incarnation: 11744020648677481895\n",
      "physical_device_desc: \"device: XLA_CPU device\"\n",
      "]\n"
     ]
    }
   ],
   "source": [
    "# Check the devices that are available for computation\n",
    "\n",
    "from tensorflow.python.client import device_lib\n",
    "print(device_lib.list_local_devices())"
   ]
  },
  {
   "cell_type": "code",
   "execution_count": 3,
   "metadata": {},
   "outputs": [
    {
     "name": "stdout",
     "output_type": "stream",
     "text": [
      "2.3.1\n"
     ]
    }
   ],
   "source": [
    "print(tf.__version__)"
   ]
  },
  {
   "cell_type": "markdown",
   "metadata": {},
   "source": [
    "# Exploiratory Data Analysis"
   ]
  },
  {
   "cell_type": "code",
   "execution_count": 4,
   "metadata": {},
   "outputs": [],
   "source": [
    "train_dir = './Datasets/train'\n",
    "test_dir = './Datasets/test'"
   ]
  },
  {
   "cell_type": "markdown",
   "metadata": {},
   "source": [
    "ImageDataGenerator generates batches of tensor image data with real-time data augmentation."
   ]
  },
  {
   "cell_type": "code",
   "execution_count": 5,
   "metadata": {},
   "outputs": [],
   "source": [
    "from tensorflow.keras.preprocessing.image import ImageDataGenerator"
   ]
  },
  {
   "cell_type": "code",
   "execution_count": 6,
   "metadata": {},
   "outputs": [],
   "source": [
    "data = ImageDataGenerator(rescale=1/255.0)"
   ]
  },
  {
   "cell_type": "code",
   "execution_count": 7,
   "metadata": {},
   "outputs": [
    {
     "name": "stdout",
     "output_type": "stream",
     "text": [
      "Found 20000 images belonging to 2 classes.\n"
     ]
    }
   ],
   "source": [
    "train_generator = data.flow_from_directory(directory=train_dir, target_size=(256,256), classes=['cats', 'dogs'], class_mode='binary', batch_size=20)"
   ]
  },
  {
   "cell_type": "code",
   "execution_count": 8,
   "metadata": {},
   "outputs": [
    {
     "data": {
      "text/plain": [
       "array([0, 0, 0, ..., 1, 1, 1], dtype=int32)"
      ]
     },
     "execution_count": 8,
     "metadata": {},
     "output_type": "execute_result"
    }
   ],
   "source": [
    "train_generator.classes"
   ]
  },
  {
   "cell_type": "code",
   "execution_count": 9,
   "metadata": {},
   "outputs": [
    {
     "name": "stdout",
     "output_type": "stream",
     "text": [
      "Found 5000 images belonging to 2 classes.\n"
     ]
    }
   ],
   "source": [
    "cv_generator = data.flow_from_directory(directory=test_dir, target_size=(256,256), classes=['cats', 'dogs'], class_mode='binary', batch_size=20)"
   ]
  },
  {
   "cell_type": "code",
   "execution_count": 10,
   "metadata": {},
   "outputs": [
    {
     "name": "stdout",
     "output_type": "stream",
     "text": [
      "The data size in each Train batch is: 1000\n",
      "The data size in each Cross Validation batch is: 250\n"
     ]
    }
   ],
   "source": [
    "print(\"The data size in each Train batch is:\", len(train_generator))\n",
    "print(\"The data size in each Cross Validation batch is:\", len(cv_generator))"
   ]
  },
  {
   "cell_type": "markdown",
   "metadata": {},
   "source": [
    "# Build CNN based Transfer Model"
   ]
  },
  {
   "cell_type": "code",
   "execution_count": 11,
   "metadata": {},
   "outputs": [],
   "source": [
    "from tensorflow.keras import Sequential\n",
    "from tensorflow.keras.layers import Conv2D, MaxPool2D, Dense, Flatten, Dropout, BatchNormalization"
   ]
  },
  {
   "cell_type": "code",
   "execution_count": 12,
   "metadata": {},
   "outputs": [],
   "source": [
    "model = Sequential()\n",
    "model.add(Conv2D(filters=64, kernel_size=(3,3), activation='relu', padding='same', kernel_initializer='he_uniform', input_shape=(256,256,3)))\n",
    "model.add(BatchNormalization())\n",
    "model.add(MaxPool2D(2,2))\n",
    "model.add(Dropout(0.2))\n",
    "\n",
    "model.add(Flatten())\n",
    "model.add(Dense(units=128, activation='relu', kernel_initializer='he_uniform'))\n",
    "model.add(BatchNormalization())\n",
    "model.add(Dropout(0.3))\n",
    "\n",
    "model.add(Dense(units=1, activation='sigmoid'))"
   ]
  },
  {
   "cell_type": "code",
   "execution_count": 13,
   "metadata": {},
   "outputs": [],
   "source": [
    "from tensorflow.keras.optimizers import SGD"
   ]
  },
  {
   "cell_type": "code",
   "execution_count": 14,
   "metadata": {},
   "outputs": [],
   "source": [
    "optimizer = SGD(learning_rate=0.01, momentum=0.9)\n",
    "model.compile(optimizer=optimizer, loss='binary_crossentropy', metrics=['accuracy'])"
   ]
  },
  {
   "cell_type": "code",
   "execution_count": 15,
   "metadata": {},
   "outputs": [
    {
     "name": "stdout",
     "output_type": "stream",
     "text": [
      "Model: \"sequential\"\n",
      "_________________________________________________________________\n",
      "Layer (type)                 Output Shape              Param #   \n",
      "=================================================================\n",
      "conv2d (Conv2D)              (None, 256, 256, 64)      1792      \n",
      "_________________________________________________________________\n",
      "batch_normalization (BatchNo (None, 256, 256, 64)      256       \n",
      "_________________________________________________________________\n",
      "max_pooling2d (MaxPooling2D) (None, 128, 128, 64)      0         \n",
      "_________________________________________________________________\n",
      "dropout (Dropout)            (None, 128, 128, 64)      0         \n",
      "_________________________________________________________________\n",
      "flatten (Flatten)            (None, 1048576)           0         \n",
      "_________________________________________________________________\n",
      "dense (Dense)                (None, 128)               134217856 \n",
      "_________________________________________________________________\n",
      "batch_normalization_1 (Batch (None, 128)               512       \n",
      "_________________________________________________________________\n",
      "dropout_1 (Dropout)          (None, 128)               0         \n",
      "_________________________________________________________________\n",
      "dense_1 (Dense)              (None, 1)                 129       \n",
      "=================================================================\n",
      "Total params: 134,220,545\n",
      "Trainable params: 134,220,161\n",
      "Non-trainable params: 384\n",
      "_________________________________________________________________\n"
     ]
    }
   ],
   "source": [
    "model.summary()"
   ]
  },
  {
   "cell_type": "markdown",
   "metadata": {},
   "source": [
    "#  Fitting Model"
   ]
  },
  {
   "cell_type": "code",
   "execution_count": 16,
   "metadata": {},
   "outputs": [
    {
     "name": "stdout",
     "output_type": "stream",
     "text": [
      "WARNING:tensorflow:From <ipython-input-16-381e7e3d3d66>:1: Model.fit_generator (from tensorflow.python.keras.engine.training) is deprecated and will be removed in a future version.\n",
      "Instructions for updating:\n",
      "Please use Model.fit, which supports generators.\n",
      "Epoch 1/10\n",
      "1000/1000 [==============================] - 898s 898ms/step - loss: 0.6831 - accuracy: 0.6168 - val_loss: 0.6637 - val_accuracy: 0.6608\n",
      "Epoch 2/10\n",
      "1000/1000 [==============================] - 823s 823ms/step - loss: 0.6228 - accuracy: 0.6619 - val_loss: 0.7080 - val_accuracy: 0.6078\n",
      "Epoch 3/10\n",
      "1000/1000 [==============================] - 830s 830ms/step - loss: 0.5965 - accuracy: 0.6867 - val_loss: 0.6611 - val_accuracy: 0.6610\n",
      "Epoch 4/10\n",
      "1000/1000 [==============================] - 843s 843ms/step - loss: 0.5810 - accuracy: 0.6962 - val_loss: 0.6690 - val_accuracy: 0.6356\n",
      "Epoch 5/10\n",
      "1000/1000 [==============================] - 842s 842ms/step - loss: 0.5444 - accuracy: 0.7268 - val_loss: 0.5952 - val_accuracy: 0.6786\n",
      "Epoch 6/10\n",
      "1000/1000 [==============================] - 845s 845ms/step - loss: 0.4836 - accuracy: 0.7684 - val_loss: 0.5763 - val_accuracy: 0.7132\n",
      "Epoch 7/10\n",
      "1000/1000 [==============================] - 838s 838ms/step - loss: 0.4000 - accuracy: 0.8176 - val_loss: 0.5847 - val_accuracy: 0.7228\n",
      "Epoch 8/10\n",
      "1000/1000 [==============================] - 836s 836ms/step - loss: 0.4244 - accuracy: 0.8016 - val_loss: 0.5741 - val_accuracy: 0.6922\n",
      "Epoch 9/10\n",
      "1000/1000 [==============================] - 840s 840ms/step - loss: 0.5477 - accuracy: 0.7194 - val_loss: 0.8988 - val_accuracy: 0.5748\n",
      "Epoch 10/10\n",
      "1000/1000 [==============================] - 856s 856ms/step - loss: 0.5169 - accuracy: 0.7422 - val_loss: 0.7554 - val_accuracy: 0.6838\n"
     ]
    }
   ],
   "source": [
    "records = model.fit_generator(generator=train_generator, steps_per_epoch=len(train_generator), epochs=10, validation_data=cv_generator, validation_steps=len(cv_generator), verbose=1)"
   ]
  },
  {
   "cell_type": "markdown",
   "metadata": {},
   "source": [
    "# Learning Curves"
   ]
  },
  {
   "cell_type": "code",
   "execution_count": 17,
   "metadata": {},
   "outputs": [
    {
     "data": {
      "text/plain": [
       "{'loss': [0.6830958724021912,\n",
       "  0.6227867603302002,\n",
       "  0.5964570641517639,\n",
       "  0.5810078382492065,\n",
       "  0.5443853139877319,\n",
       "  0.48363468050956726,\n",
       "  0.3999820947647095,\n",
       "  0.4244217276573181,\n",
       "  0.5476588606834412,\n",
       "  0.5169386267662048],\n",
       " 'accuracy': [0.6167500019073486,\n",
       "  0.6619499921798706,\n",
       "  0.6867499947547913,\n",
       "  0.6962000131607056,\n",
       "  0.7268499732017517,\n",
       "  0.7683500051498413,\n",
       "  0.817550003528595,\n",
       "  0.8016499876976013,\n",
       "  0.7193999886512756,\n",
       "  0.7421500086784363],\n",
       " 'val_loss': [0.6636999249458313,\n",
       "  0.7079888582229614,\n",
       "  0.6611359119415283,\n",
       "  0.6690464615821838,\n",
       "  0.5952222943305969,\n",
       "  0.5762650966644287,\n",
       "  0.5846903920173645,\n",
       "  0.5741388201713562,\n",
       "  0.8988378643989563,\n",
       "  0.7554187774658203],\n",
       " 'val_accuracy': [0.6607999801635742,\n",
       "  0.6078000068664551,\n",
       "  0.6610000133514404,\n",
       "  0.6355999708175659,\n",
       "  0.678600013256073,\n",
       "  0.7131999731063843,\n",
       "  0.7228000164031982,\n",
       "  0.6922000050544739,\n",
       "  0.5748000144958496,\n",
       "  0.6837999820709229]}"
      ]
     },
     "execution_count": 17,
     "metadata": {},
     "output_type": "execute_result"
    }
   ],
   "source": [
    "records.history"
   ]
  },
  {
   "cell_type": "code",
   "execution_count": 19,
   "metadata": {},
   "outputs": [
    {
     "data": {
      "image/png": "[encoded data removed]",
      "text/plain": [
       "<Figure size 432x288 with 1 Axes>"
      ]
     },
     "metadata": {
      "needs_background": "light"
     },
     "output_type": "display_data"
    },
    {
     "data": {
      "image/png": "[encoded data removed]",
      "text/plain": [
       "<Figure size 432x288 with 1 Axes>"
      ]
     },
     "metadata": {
      "needs_background": "light"
     },
     "output_type": "display_data"
    },
    {
     "data": {
      "text/plain": [
       "<Figure size 432x288 with 0 Axes>"
      ]
     },
     "metadata": {},
     "output_type": "display_data"
    }
   ],
   "source": [
    "# Plot Model Accuracy\n",
    "\n",
    "epoch_range = range(1, 11)\n",
    "plt.plot(epoch_range, records.history['accuracy'])\n",
    "plt.plot(epoch_range, records.history['val_accuracy'])\n",
    "plt.title('Model Accuracy')\n",
    "plt.ylabel('Accuracy')\n",
    "plt.xlabel('Epoch')\n",
    "plt.legend(['Train', 'CV'], loc='upper left')\n",
    "plt.show()\n",
    "plt.savefig('accuracy_lc.png')\n",
    "# plt.savefig('accuracy_lc.pdf')     To save figure as pdf\n",
    "\n",
    "# Plot Model Loss\n",
    "\n",
    "plt.plot(epoch_range, records.history['loss'])\n",
    "plt.plot(epoch_range, records.history['val_loss'])\n",
    "plt.title('Model Loss')\n",
    "plt.ylabel('Loss')\n",
    "plt.xlabel('Epoch')\n",
    "plt.legend(['Train', 'CV'], loc='upper left')\n",
    "plt.show()\n",
    "plt.savefig('loss_lc.png')"
   ]
  },
  {
   "cell_type": "code",
   "execution_count": null,
   "metadata": {},
   "outputs": [],
   "source": []
  }
 ],
 "metadata": {
  "kernelspec": {
   "display_name": "Python 3.7 (Intel® oneAPI)",
   "language": "python",
   "name": "c009-intel_distribution_of_python_3_oneapi-beta05-python"
  },
  "language_info": {
   "codemirror_mode": {
    "name": "ipython",
    "version": 3
   },
   "file_extension": ".py",
   "mimetype": "text/x-python",
   "name": "python",
   "nbconvert_exporter": "python",
   "pygments_lexer": "ipython3",
   "version": "3.7.7"
  }
 },
 "nbformat": 4,
 "nbformat_minor": 4
}
